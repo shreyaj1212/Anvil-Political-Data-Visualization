{
 "cells": [
  {
   "cell_type": "code",
   "execution_count": 1,
   "metadata": {},
   "outputs": [],
   "source": [
    "import pandas as pd\n",
    "import numpy as np\n",
    "import matplotlib.pyplot as plt\n",
    "import math\n",
    "import seaborn as sns\n",
    "import matplotlib\n",
    "import plotly.graph_objects as go"
   ]
  },
  {
   "cell_type": "code",
   "execution_count": 33,
   "metadata": {},
   "outputs": [],
   "source": [
    "data = pd.read_csv(\"spv.csv\")\n",
    "data = data.drop(columns={\"Timestamp\"})\n",
    "data = data.rename(columns={\"Will you vote in the upcoming cycle?\":\"votability\",\"What political party do you align with?\":\"party\"})\n",
    "data = data.rename(columns={\"Which Democratic Primary Candidate Do you like most?\":\"demCand\", \"Which candidate do you currently feel most inclined to vote for?\":\"indCand\",\"Would you vote for Trump?\":\"Trump\"})\n",
    "\n",
    "# votability simplification\n",
    "# 1 = I plan on voting in the primaries and the election.\n",
    "# 2 = I do not plan on voting in the primaries, but I will vote in the election.\n",
    "# 3 = I will not be able to vote, but I am a US citizen.\n",
    "# 4 = I am not a US Citizen.\n",
    "for i in range(59):\n",
    "    if data['votability'][i] == \"I plan on voting in the primaries and the election.\":\n",
    "        data['votability'][i] = 1\n",
    "    elif data['votability'][i] == \"I do not plan on voting in the primaries, but I will vote in the election.\":\n",
    "        data['votability'][i] = 2\n",
    "    elif data['votability'][i] == \"I will not be able to vote, but I am a US citizen.\":\n",
    "        data['votability'][i] = 3\n",
    "    elif data['votability'][i] == \"I am not a US Citizen.\":\n",
    "        data['votability'][i] = 4\n",
    "\n",
    "data['votability'][24]=3\n",
    "data['votability'][36]=2\n",
    "data['votability'][34]=3\n",
    "data = data.drop(27)\n",
    "\n",
    "# cleaning party\n",
    "data['party'][37] = \"Independent\" # initially Whig\n",
    "data['party'][45] = \"Independent\""
   ]
  },
  {
   "cell_type": "code",
   "execution_count": null,
   "metadata": {},
   "outputs": [],
   "source": []
  }
 ],
 "metadata": {
  "kernelspec": {
   "display_name": "Python 3",
   "language": "python",
   "name": "python3"
  },
  "language_info": {
   "codemirror_mode": {
    "name": "ipython",
    "version": 3
   },
   "file_extension": ".py",
   "mimetype": "text/x-python",
   "name": "python",
   "nbconvert_exporter": "python",
   "pygments_lexer": "ipython3",
   "version": "3.7.3"
  }
 },
 "nbformat": 4,
 "nbformat_minor": 2
}
